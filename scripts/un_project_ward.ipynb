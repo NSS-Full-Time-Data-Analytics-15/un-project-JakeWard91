{
 "cells": [
  {
   "cell_type": "markdown",
   "id": "57dd06b2-30b6-4a36-9cc3-5c04b6fa7e39",
   "metadata": {},
   "source": [
    "-- UN Project --"
   ]
  },
  {
   "cell_type": "code",
   "execution_count": 178,
   "id": "9fe46138-2bb7-4809-a4a7-a11f75689fad",
   "metadata": {},
   "outputs": [],
   "source": [
    "import pandas as pd\n",
    "import numpy as np\n",
    "import matplotlib.pyplot as plt\n",
    "import seaborn as sns"
   ]
  },
  {
   "cell_type": "markdown",
   "id": "006022f9-83f1-47e8-ac2a-b9d2b3efd6a5",
   "metadata": {},
   "source": [
    "-- Q4 -- Using the pandas `read_csv()` method, read the GDP dataset into your notebook as a DataFrame called `gdp_df`. Take a look at the first few and last few rows to familiarize yourself with what is contained in this dataset."
   ]
  },
  {
   "cell_type": "code",
   "execution_count": 180,
   "id": "c9c9e7b1-689b-4c8c-9340-2e4c4a3664aa",
   "metadata": {},
   "outputs": [],
   "source": [
    "gdp_df = pd.read_csv('../data/gdp_percapita.csv')"
   ]
  },
  {
   "cell_type": "markdown",
   "id": "76045218-08aa-41a7-a292-f0ad76655261",
   "metadata": {},
   "source": [
    "<font color='yellow'>---------------------------------------------------------------------------------------------------------------------------------------------------------</font>"
   ]
  },
  {
   "cell_type": "markdown",
   "id": "211fc823-fbaa-47f5-8906-401ee7c85e80",
   "metadata": {},
   "source": [
    "-- Q5 -- How many rows and columns are in `gdp_df`? What are the data types of each column?"
   ]
  },
  {
   "cell_type": "code",
   "execution_count": 183,
   "id": "5d7b1627-7b7e-48df-ad7d-e1bb5d19ed08",
   "metadata": {},
   "outputs": [
    {
     "data": {
      "text/plain": [
       "(8219, 4)"
      ]
     },
     "execution_count": 183,
     "metadata": {},
     "output_type": "execute_result"
    }
   ],
   "source": [
    "gdp_df.shape"
   ]
  },
  {
   "cell_type": "markdown",
   "id": "cebc6a8b-186d-440d-8b67-1d6f591a944e",
   "metadata": {},
   "source": [
    "** Q5 -- ANSWER: 8219 Rows and 4 Columns"
   ]
  },
  {
   "cell_type": "markdown",
   "id": "3b011fa0-1ac5-4311-9ac8-27cb3645b321",
   "metadata": {},
   "source": [
    "<font color='yellow'>---------------------------------------------------------------------------------------------------------------------------------------------------------</font>"
   ]
  },
  {
   "cell_type": "markdown",
   "id": "12060e23-073a-46e9-a187-34915dd031cb",
   "metadata": {},
   "source": [
    "-- Q6 -- Drop the `Value Footnotes` column and rename the remaining three to 'Country', 'Year', and 'GDP_Per_Capita'."
   ]
  },
  {
   "cell_type": "code",
   "execution_count": 187,
   "id": "1eeb4388-86c5-4bb3-ba49-181380a67a8f",
   "metadata": {},
   "outputs": [
    {
     "data": {
      "text/html": [
       "<div>\n",
       "<style scoped>\n",
       "    .dataframe tbody tr th:only-of-type {\n",
       "        vertical-align: middle;\n",
       "    }\n",
       "\n",
       "    .dataframe tbody tr th {\n",
       "        vertical-align: top;\n",
       "    }\n",
       "\n",
       "    .dataframe thead th {\n",
       "        text-align: right;\n",
       "    }\n",
       "</style>\n",
       "<table border=\"1\" class=\"dataframe\">\n",
       "  <thead>\n",
       "    <tr style=\"text-align: right;\">\n",
       "      <th></th>\n",
       "      <th>Country</th>\n",
       "      <th>Year</th>\n",
       "      <th>GDP_Per_Capita</th>\n",
       "    </tr>\n",
       "  </thead>\n",
       "  <tbody>\n",
       "    <tr>\n",
       "      <th>0</th>\n",
       "      <td>Afghanistan</td>\n",
       "      <td>2023</td>\n",
       "      <td>1992.424394</td>\n",
       "    </tr>\n",
       "    <tr>\n",
       "      <th>1</th>\n",
       "      <td>Afghanistan</td>\n",
       "      <td>2022</td>\n",
       "      <td>1981.710168</td>\n",
       "    </tr>\n",
       "    <tr>\n",
       "      <th>2</th>\n",
       "      <td>Afghanistan</td>\n",
       "      <td>2021</td>\n",
       "      <td>2144.166570</td>\n",
       "    </tr>\n",
       "    <tr>\n",
       "      <th>3</th>\n",
       "      <td>Afghanistan</td>\n",
       "      <td>2020</td>\n",
       "      <td>2769.685745</td>\n",
       "    </tr>\n",
       "    <tr>\n",
       "      <th>4</th>\n",
       "      <td>Afghanistan</td>\n",
       "      <td>2019</td>\n",
       "      <td>2927.245144</td>\n",
       "    </tr>\n",
       "    <tr>\n",
       "      <th>...</th>\n",
       "      <td>...</td>\n",
       "      <td>...</td>\n",
       "      <td>...</td>\n",
       "    </tr>\n",
       "    <tr>\n",
       "      <th>8214</th>\n",
       "      <td>Zimbabwe</td>\n",
       "      <td>1994</td>\n",
       "      <td>3965.730986</td>\n",
       "    </tr>\n",
       "    <tr>\n",
       "      <th>8215</th>\n",
       "      <td>Zimbabwe</td>\n",
       "      <td>1993</td>\n",
       "      <td>3634.750494</td>\n",
       "    </tr>\n",
       "    <tr>\n",
       "      <th>8216</th>\n",
       "      <td>Zimbabwe</td>\n",
       "      <td>1992</td>\n",
       "      <td>3649.891947</td>\n",
       "    </tr>\n",
       "    <tr>\n",
       "      <th>8217</th>\n",
       "      <td>Zimbabwe</td>\n",
       "      <td>1991</td>\n",
       "      <td>4126.405247</td>\n",
       "    </tr>\n",
       "    <tr>\n",
       "      <th>8218</th>\n",
       "      <td>Zimbabwe</td>\n",
       "      <td>1990</td>\n",
       "      <td>4013.299059</td>\n",
       "    </tr>\n",
       "  </tbody>\n",
       "</table>\n",
       "<p>8219 rows × 3 columns</p>\n",
       "</div>"
      ],
      "text/plain": [
       "          Country  Year  GDP_Per_Capita\n",
       "0     Afghanistan  2023     1992.424394\n",
       "1     Afghanistan  2022     1981.710168\n",
       "2     Afghanistan  2021     2144.166570\n",
       "3     Afghanistan  2020     2769.685745\n",
       "4     Afghanistan  2019     2927.245144\n",
       "...           ...   ...             ...\n",
       "8214     Zimbabwe  1994     3965.730986\n",
       "8215     Zimbabwe  1993     3634.750494\n",
       "8216     Zimbabwe  1992     3649.891947\n",
       "8217     Zimbabwe  1991     4126.405247\n",
       "8218     Zimbabwe  1990     4013.299059\n",
       "\n",
       "[8219 rows x 3 columns]"
      ]
     },
     "execution_count": 187,
     "metadata": {},
     "output_type": "execute_result"
    }
   ],
   "source": [
    "gdp_df = gdp_df.drop(columns = ['Value Footnotes'])\n",
    "gdp_df = gdp_df.rename(columns = {'Country or Area' : 'Country', 'Value' : 'GDP_Per_Capita'})\n",
    "gdp_df"
   ]
  },
  {
   "cell_type": "markdown",
   "id": "1e071912-b4ec-4eb3-9a8b-a3273ccb59fb",
   "metadata": {},
   "source": [
    "<font color='yellow'>---------------------------------------------------------------------------------------------------------------------------------------------------------</font>"
   ]
  },
  {
   "cell_type": "markdown",
   "id": "d5bf1209-e707-4890-8d1d-66b9088843f4",
   "metadata": {},
   "source": [
    "-- Q7 -- How many countries have data for all years? Which countries are missing many years of data? Look at the number of observations per year. What do you notice?"
   ]
  },
  {
   "cell_type": "code",
   "execution_count": 194,
   "id": "dc42584d-ab39-458c-9308-57e5c097d79c",
   "metadata": {},
   "outputs": [
    {
     "data": {
      "text/plain": [
       "247"
      ]
     },
     "execution_count": 194,
     "metadata": {},
     "output_type": "execute_result"
    }
   ],
   "source": [
    "distinct_countries = gdp_df['Country'].nunique()\n",
    "\n",
    "distinct_countries"
   ]
  },
  {
   "cell_type": "code",
   "execution_count": 196,
   "id": "2bd7a1ff-2a56-46b1-a6fc-983c44e5dccc",
   "metadata": {},
   "outputs": [
    {
     "data": {
      "text/plain": [
       "Country\n",
       "Germany                               34\n",
       "Ghana                                 34\n",
       "Greece                                34\n",
       "Equatorial Guinea                     34\n",
       "Grenada                               34\n",
       "Europe & Central Asia (IDA & IBRD)    34\n",
       "Bhutan                                33\n",
       "Syrian Arab Republic                  33\n",
       "Somalia                               33\n",
       "Tonga                                 33\n",
       "Lebanon                               33\n",
       "Greenland                             32\n",
       "West Bank and Gaza                    30\n",
       "Serbia                                29\n",
       "Montenegro                            27\n",
       "San Marino                            26\n",
       "CuraÃ§ao                              24\n",
       "Afghanistan                           24\n",
       "Virgin Islands                        21\n",
       "Cayman Islands                        18\n",
       "Faroe Islands                         16\n",
       "Kosovo                                16\n",
       "Sint Maarten (Dutch part)             15\n",
       "Turks and Caicos Islands              13\n",
       "Djibouti                              11\n",
       "Name: count, dtype: int64"
      ]
     },
     "execution_count": 196,
     "metadata": {},
     "output_type": "execute_result"
    }
   ],
   "source": [
    " years_w_data = gdp_df['Country'].value_counts()\n",
    "years_w_data.tail(25)"
   ]
  },
  {
   "cell_type": "markdown",
   "id": "f2fdb176-11ae-4905-aecc-4c7c93eaefb7",
   "metadata": {},
   "source": [
    "** Q7 -- ANSWER: 228 Countries have data for all years, 19 Countries do not have data for all years."
   ]
  },
  {
   "cell_type": "markdown",
   "id": "2c3fcb7c-b13d-472f-a55a-1f7fb28ef0e8",
   "metadata": {},
   "source": [
    "<font color='yellow'>---------------------------------------------------------------------------------------------------------------------------------------------------------</font>"
   ]
  },
  {
   "cell_type": "markdown",
   "id": "55b877b2-9077-443b-b9fc-d6ebc7620453",
   "metadata": {},
   "source": [
    "-- Q8 -- In this question, you're going to create some plots to show the distribution of GDP per capita for the year 2020. Go to the Python Graph Gallery (https://www.python-graph-gallery.com/) and look at the different types of plots under the Distribution section. Create a histogram, a density plot, a boxplot, and a violin plot. What do you notice when you look at these plots? How do the plots compare and what information can you get out of one type that you can't necessarily get out of the others?"
   ]
  },
  {
   "cell_type": "code",
   "execution_count": 200,
   "id": "265f2578-e9c8-452e-ba02-e201259bdcff",
   "metadata": {},
   "outputs": [
    {
     "data": {
      "text/html": [
       "<div>\n",
       "<style scoped>\n",
       "    .dataframe tbody tr th:only-of-type {\n",
       "        vertical-align: middle;\n",
       "    }\n",
       "\n",
       "    .dataframe tbody tr th {\n",
       "        vertical-align: top;\n",
       "    }\n",
       "\n",
       "    .dataframe thead th {\n",
       "        text-align: right;\n",
       "    }\n",
       "</style>\n",
       "<table border=\"1\" class=\"dataframe\">\n",
       "  <thead>\n",
       "    <tr style=\"text-align: right;\">\n",
       "      <th></th>\n",
       "      <th>Country</th>\n",
       "      <th>Year</th>\n",
       "      <th>GDP_Per_Capita</th>\n",
       "    </tr>\n",
       "  </thead>\n",
       "  <tbody>\n",
       "    <tr>\n",
       "      <th>3</th>\n",
       "      <td>Afghanistan</td>\n",
       "      <td>2020</td>\n",
       "      <td>2769.685745</td>\n",
       "    </tr>\n",
       "    <tr>\n",
       "      <th>27</th>\n",
       "      <td>Africa Eastern and Southern</td>\n",
       "      <td>2020</td>\n",
       "      <td>3861.111238</td>\n",
       "    </tr>\n",
       "    <tr>\n",
       "      <th>61</th>\n",
       "      <td>Africa Western and Central</td>\n",
       "      <td>2020</td>\n",
       "      <td>4622.731427</td>\n",
       "    </tr>\n",
       "    <tr>\n",
       "      <th>95</th>\n",
       "      <td>Albania</td>\n",
       "      <td>2020</td>\n",
       "      <td>14650.395929</td>\n",
       "    </tr>\n",
       "    <tr>\n",
       "      <th>129</th>\n",
       "      <td>Algeria</td>\n",
       "      <td>2020</td>\n",
       "      <td>14194.155748</td>\n",
       "    </tr>\n",
       "    <tr>\n",
       "      <th>...</th>\n",
       "      <td>...</td>\n",
       "      <td>...</td>\n",
       "      <td>...</td>\n",
       "    </tr>\n",
       "    <tr>\n",
       "      <th>8068</th>\n",
       "      <td>Virgin Islands</td>\n",
       "      <td>2020</td>\n",
       "      <td>45055.782930</td>\n",
       "    </tr>\n",
       "    <tr>\n",
       "      <th>8090</th>\n",
       "      <td>West Bank and Gaza</td>\n",
       "      <td>2020</td>\n",
       "      <td>5423.682547</td>\n",
       "    </tr>\n",
       "    <tr>\n",
       "      <th>8120</th>\n",
       "      <td>World</td>\n",
       "      <td>2020</td>\n",
       "      <td>18600.986362</td>\n",
       "    </tr>\n",
       "    <tr>\n",
       "      <th>8154</th>\n",
       "      <td>Zambia</td>\n",
       "      <td>2020</td>\n",
       "      <td>3391.595412</td>\n",
       "    </tr>\n",
       "    <tr>\n",
       "      <th>8188</th>\n",
       "      <td>Zimbabwe</td>\n",
       "      <td>2020</td>\n",
       "      <td>2987.269823</td>\n",
       "    </tr>\n",
       "  </tbody>\n",
       "</table>\n",
       "<p>247 rows × 3 columns</p>\n",
       "</div>"
      ],
      "text/plain": [
       "                          Country  Year  GDP_Per_Capita\n",
       "3                     Afghanistan  2020     2769.685745\n",
       "27    Africa Eastern and Southern  2020     3861.111238\n",
       "61     Africa Western and Central  2020     4622.731427\n",
       "95                        Albania  2020    14650.395929\n",
       "129                       Algeria  2020    14194.155748\n",
       "...                           ...   ...             ...\n",
       "8068               Virgin Islands  2020    45055.782930\n",
       "8090           West Bank and Gaza  2020     5423.682547\n",
       "8120                        World  2020    18600.986362\n",
       "8154                       Zambia  2020     3391.595412\n",
       "8188                     Zimbabwe  2020     2987.269823\n",
       "\n",
       "[247 rows x 3 columns]"
      ]
     },
     "execution_count": 200,
     "metadata": {},
     "output_type": "execute_result"
    }
   ],
   "source": [
    "gdp_in_2020 = gdp_df[gdp_df.Year == 2020]\n",
    "gdp_in_2020"
   ]
  },
  {
   "cell_type": "markdown",
   "id": "e512af69-7cc8-4ab9-9772-37f9909888d6",
   "metadata": {},
   "source": [
    "-- HISTOGRAM PLOT --"
   ]
  },
  {
   "cell_type": "code",
   "execution_count": 202,
   "id": "bb9a515a-719b-4f3a-b367-52c2ee63b389",
   "metadata": {},
   "outputs": [
    {
     "data": {
      "image/png": "[encoded data removed]",
      "text/plain": [
       "<Figure size 640x480 with 1 Axes>"
      ]
     },
     "metadata": {},
     "output_type": "display_data"
    }
   ],
   "source": [
    "sns.histplot(gdp_in_2020.GDP_Per_Capita);"
   ]
  },
  {
   "cell_type": "markdown",
   "id": "1d8ee5f1-ce3d-4ce7-9aa6-355cbab514ad",
   "metadata": {},
   "source": [
    "-- KDE PLOT --"
   ]
  },
  {
   "cell_type": "code",
   "execution_count": 204,
   "id": "562ea4b2-877b-475f-85c3-c7b55897628e",
   "metadata": {},
   "outputs": [
    {
     "data": {
      "image/png": "[encoded data removed]",
      "text/plain": [
       "<Figure size 640x480 with 1 Axes>"
      ]
     },
     "metadata": {},
     "output_type": "display_data"
    }
   ],
   "source": [
    "sns.kdeplot(gdp_in_2020.GDP_Per_Capita);"
   ]
  },
  {
   "cell_type": "markdown",
   "id": "90b21adf-918a-4c37-8456-352b3447a84c",
   "metadata": {},
   "source": [
    "-- BOX PLOT --"
   ]
  },
  {
   "cell_type": "code",
   "execution_count": 206,
   "id": "2c59b211-fd9d-4548-b47e-8fa1989632f4",
   "metadata": {},
   "outputs": [
    {
     "data": {
      "image/png": "[encoded data removed]",
      "text/plain": [
       "<Figure size 1000x200 with 1 Axes>"
      ]
     },
     "metadata": {},
     "output_type": "display_data"
    }
   ],
   "source": [
    "plt.figure(figsize = (10,2))\n",
    "sns.boxplot(x = gdp_in_2020.GDP_Per_Capita);"
   ]
  },
  {
   "cell_type": "code",
   "execution_count": 208,
   "id": "5154f2d2-c29a-43f7-9a3a-f6d058003821",
   "metadata": {},
   "outputs": [
    {
     "data": {
      "image/png": "[encoded data removed]",
      "text/plain": [
       "<Figure size 640x480 with 1 Axes>"
      ]
     },
     "metadata": {},
     "output_type": "display_data"
    }
   ],
   "source": [
    "sns.violinplot(x = gdp_in_2020.GDP_Per_Capita);"
   ]
  },
  {
   "cell_type": "markdown",
   "id": "0793bea5-b03b-473a-bef5-f1ec768d39d9",
   "metadata": {},
   "source": [
    "<font color='yellow'>---------------------------------------------------------------------------------------------------------------------------------------------------------</font>"
   ]
  },
  {
   "cell_type": "markdown",
   "id": "8c52dcb6-acae-463c-aab5-e58f1e346b72",
   "metadata": {},
   "source": [
    "-- Q9 -- What was the median GDP per capita value in 2020?"
   ]
  },
  {
   "cell_type": "code",
   "execution_count": 253,
   "id": "e29687cb-6841-4a10-94b0-6c38ac859d68",
   "metadata": {},
   "outputs": [
    {
     "data": {
      "text/plain": [
       "15309.23598817024"
      ]
     },
     "execution_count": 253,
     "metadata": {},
     "output_type": "execute_result"
    }
   ],
   "source": [
    "gdpmedian = gdp_in_2020.GDP_Per_Capita.median()\n",
    "gdpmedian"
   ]
  },
  {
   "cell_type": "markdown",
   "id": "7c250dbc-1881-4298-a3ac-04117f6f01da",
   "metadata": {},
   "source": [
    "** Q9 -- ANSWER: 15309.24"
   ]
  },
  {
   "cell_type": "markdown",
   "id": "4e58862a-7676-4362-8621-30449dc036e5",
   "metadata": {},
   "source": [
    "<font color='yellow'>---------------------------------------------------------------------------------------------------------------------------------------------------------</font>"
   ]
  },
  {
   "cell_type": "markdown",
   "id": "55153a50-34b6-4c89-8a82-69b919969fe5",
   "metadata": {},
   "source": [
    "-- Q10 -- For this question, you're going to create some visualizations to compare GDP per capita values for the years 1990, 2000, 2010, and 2020. Start by subsetting your data to just these 4 years into a new DataFrame named gdp_decades. Using this, create the following 4 plots:\n",
    "\t* A boxplot\n",
    "\t* A barplot (check out the Barplot with Seaborn section: https://www.python-graph-gallery.com/barplot/#Seaborn)\n",
    "\t* A scatterplot\n",
    "\t* A scatterplot with a trend line overlaid (see this regplot example: https://www.python-graph-gallery.com/42-custom-linear-regression-fit-seaborn) "
   ]
  },
  {
   "cell_type": "code",
   "execution_count": 34,
   "id": "22b8d70a-7bc3-47a2-95db-208f6d6e3e9a",
   "metadata": {},
   "outputs": [],
   "source": [
    "decades = [1990,2000,2010,2020]"
   ]
  },
  {
   "cell_type": "code",
   "execution_count": 35,
   "id": "dd05b890-14db-484e-9c32-a176da87c7c0",
   "metadata": {},
   "outputs": [],
   "source": [
    "gdp_decades = gdp_df.loc[gdp_df.Year.isin(decades)]"
   ]
  },
  {
   "cell_type": "code",
   "execution_count": 267,
   "id": "78d987fd-8af6-4614-beef-7399bde8e102",
   "metadata": {},
   "outputs": [
    {
     "data": {
      "image/png": "[encoded data removed]",
      "text/plain": [
       "<Figure size 500x1000 with 1 Axes>"
      ]
     },
     "metadata": {},
     "output_type": "display_data"
    }
   ],
   "source": [
    "plt.figure(figsize = (5,10))\n",
    "sns.boxplot(y= gdp_decades.GDP_Per_Capita, x = gdp_decades.Year);"
   ]
  },
  {
   "cell_type": "code",
   "execution_count": 269,
   "id": "8535437f-b287-4477-b5ce-3e8cc79525fa",
   "metadata": {},
   "outputs": [
    {
     "data": {
      "image/png": "[encoded data removed]",
      "text/plain": [
       "<Figure size 640x480 with 1 Axes>"
      ]
     },
     "metadata": {},
     "output_type": "display_data"
    }
   ],
   "source": [
    "sns.barplot(x = gdp_decades.Year, y = gdp_decades.GDP_Per_Capita);"
   ]
  },
  {
   "cell_type": "code",
   "execution_count": 277,
   "id": "59c768ad-e4d4-4d52-941e-2fbb9482bc7c",
   "metadata": {},
   "outputs": [
    {
     "data": {
      "image/png": "[encoded data removed]",
      "text/plain": [
       "<Figure size 640x480 with 1 Axes>"
      ]
     },
     "metadata": {},
     "output_type": "display_data"
    }
   ],
   "source": [
    "sns.scatterplot(x = gdp_decades.Year, y = gdp_decades.GDP_Per_Capita);"
   ]
  },
  {
   "cell_type": "code",
   "execution_count": 273,
   "id": "dc56d94e-81a9-4208-a1a4-cadd6e1a9e32",
   "metadata": {},
   "outputs": [
    {
     "data": {
      "image/png": "[encoded data removed]",
      "text/plain": [
       "<Figure size 640x480 with 1 Axes>"
      ]
     },
     "metadata": {},
     "output_type": "display_data"
    }
   ],
   "source": [
    "sns.regplot(x = gdp_decades.Year, y = gdp_decades.GDP_Per_Capita);"
   ]
  },
  {
   "cell_type": "markdown",
   "id": "449a548e-48ed-4056-aabf-1de06ef89fcf",
   "metadata": {},
   "source": [
    "<font color='yellow'>---------------------------------------------------------------------------------------------------------------------------------------------------------</font>"
   ]
  },
  {
   "cell_type": "markdown",
   "id": "9f396445-e5ca-407b-9355-072571ab767c",
   "metadata": {},
   "source": [
    "-- Q11 -- Which country was the first to have a GDP per capita greater than $100,000?"
   ]
  },
  {
   "cell_type": "code",
   "execution_count": 41,
   "id": "df2c5563-4832-448f-92a3-5330f2f3de4c",
   "metadata": {},
   "outputs": [],
   "source": [
    "# BY DECADES DF"
   ]
  },
  {
   "cell_type": "code",
   "execution_count": 42,
   "id": "714556d3-916c-4bca-9222-8e0343a39d28",
   "metadata": {},
   "outputs": [],
   "source": [
    "gdp_over_100k = gdp_decades[gdp_decades.GDP_Per_Capita >= 100000]"
   ]
  },
  {
   "cell_type": "code",
   "execution_count": 43,
   "id": "e403232a-0c56-49c0-bbaf-9c4dcbcee618",
   "metadata": {},
   "outputs": [
    {
     "data": {
      "text/html": [
       "<div>\n",
       "<style scoped>\n",
       "    .dataframe tbody tr th:only-of-type {\n",
       "        vertical-align: middle;\n",
       "    }\n",
       "\n",
       "    .dataframe tbody tr th {\n",
       "        vertical-align: top;\n",
       "    }\n",
       "\n",
       "    .dataframe thead th {\n",
       "        text-align: right;\n",
       "    }\n",
       "</style>\n",
       "<table border=\"1\" class=\"dataframe\">\n",
       "  <thead>\n",
       "    <tr style=\"text-align: right;\">\n",
       "      <th></th>\n",
       "      <th>Country</th>\n",
       "      <th>Year</th>\n",
       "      <th>GDP_Per_Capita</th>\n",
       "    </tr>\n",
       "  </thead>\n",
       "  <tbody>\n",
       "    <tr>\n",
       "      <th>7827</th>\n",
       "      <td>United Arab Emirates</td>\n",
       "      <td>1990</td>\n",
       "      <td>108057.042464</td>\n",
       "    </tr>\n",
       "    <tr>\n",
       "      <th>974</th>\n",
       "      <td>Brunei</td>\n",
       "      <td>1990</td>\n",
       "      <td>118163.683198</td>\n",
       "    </tr>\n",
       "    <tr>\n",
       "      <th>964</th>\n",
       "      <td>Brunei</td>\n",
       "      <td>2000</td>\n",
       "      <td>100323.440022</td>\n",
       "    </tr>\n",
       "    <tr>\n",
       "      <th>4446</th>\n",
       "      <td>Luxembourg</td>\n",
       "      <td>2000</td>\n",
       "      <td>113436.588273</td>\n",
       "    </tr>\n",
       "    <tr>\n",
       "      <th>751</th>\n",
       "      <td>Bermuda</td>\n",
       "      <td>2010</td>\n",
       "      <td>105121.639689</td>\n",
       "    </tr>\n",
       "    <tr>\n",
       "      <th>6129</th>\n",
       "      <td>Qatar</td>\n",
       "      <td>2010</td>\n",
       "      <td>129045.005599</td>\n",
       "    </tr>\n",
       "    <tr>\n",
       "      <th>4470</th>\n",
       "      <td>Macao SAR, China</td>\n",
       "      <td>2010</td>\n",
       "      <td>130596.059759</td>\n",
       "    </tr>\n",
       "    <tr>\n",
       "      <th>4436</th>\n",
       "      <td>Luxembourg</td>\n",
       "      <td>2010</td>\n",
       "      <td>130620.266278</td>\n",
       "    </tr>\n",
       "    <tr>\n",
       "      <th>3493</th>\n",
       "      <td>Ireland</td>\n",
       "      <td>2020</td>\n",
       "      <td>102989.787335</td>\n",
       "    </tr>\n",
       "    <tr>\n",
       "      <th>6119</th>\n",
       "      <td>Qatar</td>\n",
       "      <td>2020</td>\n",
       "      <td>103061.913414</td>\n",
       "    </tr>\n",
       "    <tr>\n",
       "      <th>6514</th>\n",
       "      <td>Singapore</td>\n",
       "      <td>2020</td>\n",
       "      <td>115304.149459</td>\n",
       "    </tr>\n",
       "    <tr>\n",
       "      <th>4426</th>\n",
       "      <td>Luxembourg</td>\n",
       "      <td>2020</td>\n",
       "      <td>128256.560341</td>\n",
       "    </tr>\n",
       "  </tbody>\n",
       "</table>\n",
       "</div>"
      ],
      "text/plain": [
       "                   Country  Year  GDP_Per_Capita\n",
       "7827  United Arab Emirates  1990   108057.042464\n",
       "974                 Brunei  1990   118163.683198\n",
       "964                 Brunei  2000   100323.440022\n",
       "4446            Luxembourg  2000   113436.588273\n",
       "751                Bermuda  2010   105121.639689\n",
       "6129                 Qatar  2010   129045.005599\n",
       "4470      Macao SAR, China  2010   130596.059759\n",
       "4436            Luxembourg  2010   130620.266278\n",
       "3493               Ireland  2020   102989.787335\n",
       "6119                 Qatar  2020   103061.913414\n",
       "6514             Singapore  2020   115304.149459\n",
       "4426            Luxembourg  2020   128256.560341"
      ]
     },
     "execution_count": 43,
     "metadata": {},
     "output_type": "execute_result"
    }
   ],
   "source": [
    "gdp_over_100k.sort_values(['Year', 'GDP_Per_Capita'], ascending = True)"
   ]
  },
  {
   "cell_type": "code",
   "execution_count": 44,
   "id": "ceb58fb5-108f-4ecf-bba8-3e809bf2f86b",
   "metadata": {},
   "outputs": [],
   "source": [
    "# BY ALL YEARS DF"
   ]
  },
  {
   "cell_type": "code",
   "execution_count": 45,
   "id": "533892d9-08d9-4403-baf6-24cd356f1bf3",
   "metadata": {},
   "outputs": [
    {
     "data": {
      "text/html": [
       "<div>\n",
       "<style scoped>\n",
       "    .dataframe tbody tr th:only-of-type {\n",
       "        vertical-align: middle;\n",
       "    }\n",
       "\n",
       "    .dataframe tbody tr th {\n",
       "        vertical-align: top;\n",
       "    }\n",
       "\n",
       "    .dataframe thead th {\n",
       "        text-align: right;\n",
       "    }\n",
       "</style>\n",
       "<table border=\"1\" class=\"dataframe\">\n",
       "  <thead>\n",
       "    <tr style=\"text-align: right;\">\n",
       "      <th></th>\n",
       "      <th>Country</th>\n",
       "      <th>Year</th>\n",
       "      <th>GDP_Per_Capita</th>\n",
       "    </tr>\n",
       "  </thead>\n",
       "  <tbody>\n",
       "    <tr>\n",
       "      <th>7827</th>\n",
       "      <td>United Arab Emirates</td>\n",
       "      <td>1990</td>\n",
       "      <td>108057.042464</td>\n",
       "    </tr>\n",
       "    <tr>\n",
       "      <th>974</th>\n",
       "      <td>Brunei</td>\n",
       "      <td>1990</td>\n",
       "      <td>118163.683198</td>\n",
       "    </tr>\n",
       "    <tr>\n",
       "      <th>7826</th>\n",
       "      <td>United Arab Emirates</td>\n",
       "      <td>1991</td>\n",
       "      <td>103098.537132</td>\n",
       "    </tr>\n",
       "    <tr>\n",
       "      <th>973</th>\n",
       "      <td>Brunei</td>\n",
       "      <td>1991</td>\n",
       "      <td>118220.683619</td>\n",
       "    </tr>\n",
       "    <tr>\n",
       "      <th>7825</th>\n",
       "      <td>United Arab Emirates</td>\n",
       "      <td>1992</td>\n",
       "      <td>101100.487512</td>\n",
       "    </tr>\n",
       "    <tr>\n",
       "      <th>...</th>\n",
       "      <td>...</td>\n",
       "      <td>...</td>\n",
       "      <td>...</td>\n",
       "    </tr>\n",
       "    <tr>\n",
       "      <th>4457</th>\n",
       "      <td>Macao SAR, China</td>\n",
       "      <td>2023</td>\n",
       "      <td>104961.643485</td>\n",
       "    </tr>\n",
       "    <tr>\n",
       "      <th>3490</th>\n",
       "      <td>Ireland</td>\n",
       "      <td>2023</td>\n",
       "      <td>115401.125283</td>\n",
       "    </tr>\n",
       "    <tr>\n",
       "      <th>6116</th>\n",
       "      <td>Qatar</td>\n",
       "      <td>2023</td>\n",
       "      <td>116159.142559</td>\n",
       "    </tr>\n",
       "    <tr>\n",
       "      <th>6511</th>\n",
       "      <td>Singapore</td>\n",
       "      <td>2023</td>\n",
       "      <td>127543.554752</td>\n",
       "    </tr>\n",
       "    <tr>\n",
       "      <th>4423</th>\n",
       "      <td>Luxembourg</td>\n",
       "      <td>2023</td>\n",
       "      <td>130373.477942</td>\n",
       "    </tr>\n",
       "  </tbody>\n",
       "</table>\n",
       "<p>106 rows × 3 columns</p>\n",
       "</div>"
      ],
      "text/plain": [
       "                   Country  Year  GDP_Per_Capita\n",
       "7827  United Arab Emirates  1990   108057.042464\n",
       "974                 Brunei  1990   118163.683198\n",
       "7826  United Arab Emirates  1991   103098.537132\n",
       "973                 Brunei  1991   118220.683619\n",
       "7825  United Arab Emirates  1992   101100.487512\n",
       "...                    ...   ...             ...\n",
       "4457      Macao SAR, China  2023   104961.643485\n",
       "3490               Ireland  2023   115401.125283\n",
       "6116                 Qatar  2023   116159.142559\n",
       "6511             Singapore  2023   127543.554752\n",
       "4423            Luxembourg  2023   130373.477942\n",
       "\n",
       "[106 rows x 3 columns]"
      ]
     },
     "execution_count": 45,
     "metadata": {},
     "output_type": "execute_result"
    }
   ],
   "source": [
    "gdp_100k = gdp_df[gdp_df.GDP_Per_Capita >= 100000]\n",
    "gdp_100k.sort_values(['Year', 'GDP_Per_Capita'], ascending = True)"
   ]
  },
  {
   "cell_type": "markdown",
   "id": "5ec0f239-7812-46a0-843a-d8f5dd0caaef",
   "metadata": {},
   "source": [
    "** Q11 -- ANSWER: UAE and Brunei in 1990 with a GDP per Capita of $108,057.04 and $118,163.68 respectively "
   ]
  },
  {
   "cell_type": "markdown",
   "id": "90364e7a-8d41-4688-8e8e-a76ae6e79053",
   "metadata": {},
   "source": [
    "<font color='yellow'>---------------------------------------------------------------------------------------------------------------------------------------------------------</font>"
   ]
  },
  {
   "cell_type": "markdown",
   "id": "ba7638ff-458e-45fc-b9fc-09b1dfa7f702",
   "metadata": {},
   "source": [
    "-- Q12 -- Which country had the highest GDP per capita in 2020? Create a plot showing how this country's GDP per capita has changed over the timespan of the dataset."
   ]
  },
  {
   "cell_type": "code",
   "execution_count": 49,
   "id": "50326451-1fc0-49c8-bdc4-a4fce46122a7",
   "metadata": {
    "jupyter": {
     "source_hidden": true
    }
   },
   "outputs": [
    {
     "data": {
      "text/html": [
       "<div>\n",
       "<style scoped>\n",
       "    .dataframe tbody tr th:only-of-type {\n",
       "        vertical-align: middle;\n",
       "    }\n",
       "\n",
       "    .dataframe tbody tr th {\n",
       "        vertical-align: top;\n",
       "    }\n",
       "\n",
       "    .dataframe thead th {\n",
       "        text-align: right;\n",
       "    }\n",
       "</style>\n",
       "<table border=\"1\" class=\"dataframe\">\n",
       "  <thead>\n",
       "    <tr style=\"text-align: right;\">\n",
       "      <th></th>\n",
       "      <th>Country</th>\n",
       "      <th>Year</th>\n",
       "      <th>GDP_Per_Capita</th>\n",
       "    </tr>\n",
       "  </thead>\n",
       "  <tbody>\n",
       "    <tr>\n",
       "      <th>4426</th>\n",
       "      <td>Luxembourg</td>\n",
       "      <td>2020</td>\n",
       "      <td>128256.560341</td>\n",
       "    </tr>\n",
       "    <tr>\n",
       "      <th>6514</th>\n",
       "      <td>Singapore</td>\n",
       "      <td>2020</td>\n",
       "      <td>115304.149459</td>\n",
       "    </tr>\n",
       "    <tr>\n",
       "      <th>6119</th>\n",
       "      <td>Qatar</td>\n",
       "      <td>2020</td>\n",
       "      <td>103061.913414</td>\n",
       "    </tr>\n",
       "    <tr>\n",
       "      <th>3493</th>\n",
       "      <td>Ireland</td>\n",
       "      <td>2020</td>\n",
       "      <td>102989.787335</td>\n",
       "    </tr>\n",
       "    <tr>\n",
       "      <th>741</th>\n",
       "      <td>Bermuda</td>\n",
       "      <td>2020</td>\n",
       "      <td>87894.401174</td>\n",
       "    </tr>\n",
       "    <tr>\n",
       "      <th>...</th>\n",
       "      <td>...</td>\n",
       "      <td>...</td>\n",
       "      <td>...</td>\n",
       "    </tr>\n",
       "    <tr>\n",
       "      <th>5133</th>\n",
       "      <td>Mozambique</td>\n",
       "      <td>2020</td>\n",
       "      <td>1466.124765</td>\n",
       "    </tr>\n",
       "    <tr>\n",
       "      <th>6699</th>\n",
       "      <td>Somalia</td>\n",
       "      <td>2020</td>\n",
       "      <td>1396.053436</td>\n",
       "    </tr>\n",
       "    <tr>\n",
       "      <th>1734</th>\n",
       "      <td>Dem. Rep. Congo</td>\n",
       "      <td>2020</td>\n",
       "      <td>1277.632863</td>\n",
       "    </tr>\n",
       "    <tr>\n",
       "      <th>1302</th>\n",
       "      <td>Central African Republic</td>\n",
       "      <td>2020</td>\n",
       "      <td>1136.570530</td>\n",
       "    </tr>\n",
       "    <tr>\n",
       "      <th>1046</th>\n",
       "      <td>Burundi</td>\n",
       "      <td>2020</td>\n",
       "      <td>833.920257</td>\n",
       "    </tr>\n",
       "  </tbody>\n",
       "</table>\n",
       "<p>247 rows × 3 columns</p>\n",
       "</div>"
      ],
      "text/plain": [
       "                       Country  Year  GDP_Per_Capita\n",
       "4426                Luxembourg  2020   128256.560341\n",
       "6514                 Singapore  2020   115304.149459\n",
       "6119                     Qatar  2020   103061.913414\n",
       "3493                   Ireland  2020   102989.787335\n",
       "741                    Bermuda  2020    87894.401174\n",
       "...                        ...   ...             ...\n",
       "5133                Mozambique  2020     1466.124765\n",
       "6699                   Somalia  2020     1396.053436\n",
       "1734           Dem. Rep. Congo  2020     1277.632863\n",
       "1302  Central African Republic  2020     1136.570530\n",
       "1046                   Burundi  2020      833.920257\n",
       "\n",
       "[247 rows x 3 columns]"
      ]
     },
     "execution_count": 49,
     "metadata": {},
     "output_type": "execute_result"
    }
   ],
   "source": [
    "gdp_in_2020.sort_values('GDP_Per_Capita', ascending = False)"
   ]
  },
  {
   "cell_type": "markdown",
   "id": "cd003aa7-ef37-40d4-b180-d5f6823d3545",
   "metadata": {},
   "source": [
    "** Q12 -- ANSWER: Luxemborg with a GDP per Capita of $128,256.56"
   ]
  },
  {
   "cell_type": "markdown",
   "id": "95959c93-295b-4975-b871-b1f9b277b8a0",
   "metadata": {},
   "source": [
    "** Q12 -- CHART"
   ]
  },
  {
   "cell_type": "code",
   "execution_count": 52,
   "id": "02e71dbe-7932-458a-9c22-004ace79421f",
   "metadata": {
    "jupyter": {
     "source_hidden": true
    }
   },
   "outputs": [],
   "source": [
    "gdp_lux = gdp_df[gdp_df.Country == 'Luxembourg']"
   ]
  },
  {
   "cell_type": "code",
   "execution_count": 53,
   "id": "71a6c98a-acb5-45d0-ac80-c9cf9c37ed37",
   "metadata": {
    "jupyter": {
     "source_hidden": true
    }
   },
   "outputs": [
    {
     "name": "stderr",
     "output_type": "stream",
     "text": [
      "C:\\Users\\jeepf\\AppData\\Local\\Temp\\ipykernel_26604\\1705490696.py:3: UserWarning: set_ticklabels() should only be used with a fixed number of ticks, i.e. after set_ticks() or using a FixedLocator.\n",
      "  yr.set_xticklabels(yr.get_xticklabels(), rotation=45);\n"
     ]
    },
    {
     "data": {
      "image/png": "[encoded data removed]",
      "text/plain": [
       "<Figure size 1000x400 with 1 Axes>"
      ]
     },
     "metadata": {},
     "output_type": "display_data"
    }
   ],
   "source": [
    "plt.figure(figsize = (10,4))\n",
    "yr = sns.barplot(y = gdp_lux.GDP_Per_Capita, x = gdp_lux.Year)\n",
    "yr.set_xticklabels(yr.get_xticklabels(), rotation=45);"
   ]
  },
  {
   "cell_type": "markdown",
   "id": "d8e9a651-d2ea-44b9-a734-a616a4a40a22",
   "metadata": {},
   "source": [
    "<font color='yellow'>---------------------------------------------------------------------------------------------------------------------------------------------------------</font>"
   ]
  },
  {
   "cell_type": "markdown",
   "id": "185ea59f-81da-4c88-ae99-a53ee22dbdce",
   "metadata": {},
   "source": [
    "-- Q13 -- Which country had the lowest GDP per capita in 2020? Create a plot showing how this country's GDP per capita has changed over the timespan of the dataset. **Bonus question:** Is it true in general that coutries had a higher GDP per capita in 2020 than in 1990? Which countries had lower GDP per capita in 2020 than in 1990?"
   ]
  },
  {
   "cell_type": "code",
   "execution_count": 56,
   "id": "130404b3-6d25-41cf-9fea-596eb2ccabb6",
   "metadata": {
    "jupyter": {
     "source_hidden": true
    }
   },
   "outputs": [
    {
     "data": {
      "text/html": [
       "<div>\n",
       "<style scoped>\n",
       "    .dataframe tbody tr th:only-of-type {\n",
       "        vertical-align: middle;\n",
       "    }\n",
       "\n",
       "    .dataframe tbody tr th {\n",
       "        vertical-align: top;\n",
       "    }\n",
       "\n",
       "    .dataframe thead th {\n",
       "        text-align: right;\n",
       "    }\n",
       "</style>\n",
       "<table border=\"1\" class=\"dataframe\">\n",
       "  <thead>\n",
       "    <tr style=\"text-align: right;\">\n",
       "      <th></th>\n",
       "      <th>Country</th>\n",
       "      <th>Year</th>\n",
       "      <th>GDP_Per_Capita</th>\n",
       "    </tr>\n",
       "  </thead>\n",
       "  <tbody>\n",
       "    <tr>\n",
       "      <th>1046</th>\n",
       "      <td>Burundi</td>\n",
       "      <td>2020</td>\n",
       "      <td>833.920257</td>\n",
       "    </tr>\n",
       "    <tr>\n",
       "      <th>1302</th>\n",
       "      <td>Central African Republic</td>\n",
       "      <td>2020</td>\n",
       "      <td>1136.570530</td>\n",
       "    </tr>\n",
       "    <tr>\n",
       "      <th>1734</th>\n",
       "      <td>Dem. Rep. Congo</td>\n",
       "      <td>2020</td>\n",
       "      <td>1277.632863</td>\n",
       "    </tr>\n",
       "    <tr>\n",
       "      <th>6699</th>\n",
       "      <td>Somalia</td>\n",
       "      <td>2020</td>\n",
       "      <td>1396.053436</td>\n",
       "    </tr>\n",
       "    <tr>\n",
       "      <th>5133</th>\n",
       "      <td>Mozambique</td>\n",
       "      <td>2020</td>\n",
       "      <td>1466.124765</td>\n",
       "    </tr>\n",
       "    <tr>\n",
       "      <th>...</th>\n",
       "      <td>...</td>\n",
       "      <td>...</td>\n",
       "      <td>...</td>\n",
       "    </tr>\n",
       "    <tr>\n",
       "      <th>741</th>\n",
       "      <td>Bermuda</td>\n",
       "      <td>2020</td>\n",
       "      <td>87894.401174</td>\n",
       "    </tr>\n",
       "    <tr>\n",
       "      <th>3493</th>\n",
       "      <td>Ireland</td>\n",
       "      <td>2020</td>\n",
       "      <td>102989.787335</td>\n",
       "    </tr>\n",
       "    <tr>\n",
       "      <th>6119</th>\n",
       "      <td>Qatar</td>\n",
       "      <td>2020</td>\n",
       "      <td>103061.913414</td>\n",
       "    </tr>\n",
       "    <tr>\n",
       "      <th>6514</th>\n",
       "      <td>Singapore</td>\n",
       "      <td>2020</td>\n",
       "      <td>115304.149459</td>\n",
       "    </tr>\n",
       "    <tr>\n",
       "      <th>4426</th>\n",
       "      <td>Luxembourg</td>\n",
       "      <td>2020</td>\n",
       "      <td>128256.560341</td>\n",
       "    </tr>\n",
       "  </tbody>\n",
       "</table>\n",
       "<p>247 rows × 3 columns</p>\n",
       "</div>"
      ],
      "text/plain": [
       "                       Country  Year  GDP_Per_Capita\n",
       "1046                   Burundi  2020      833.920257\n",
       "1302  Central African Republic  2020     1136.570530\n",
       "1734           Dem. Rep. Congo  2020     1277.632863\n",
       "6699                   Somalia  2020     1396.053436\n",
       "5133                Mozambique  2020     1466.124765\n",
       "...                        ...   ...             ...\n",
       "741                    Bermuda  2020    87894.401174\n",
       "3493                   Ireland  2020   102989.787335\n",
       "6119                     Qatar  2020   103061.913414\n",
       "6514                 Singapore  2020   115304.149459\n",
       "4426                Luxembourg  2020   128256.560341\n",
       "\n",
       "[247 rows x 3 columns]"
      ]
     },
     "execution_count": 56,
     "metadata": {},
     "output_type": "execute_result"
    }
   ],
   "source": [
    "gdp_in_2020.sort_values('GDP_Per_Capita', ascending = True)"
   ]
  },
  {
   "cell_type": "markdown",
   "id": "852ab54b-f725-4dc4-a749-35c61f16a02d",
   "metadata": {},
   "source": [
    "** Q13 -- ANSWER: Burundi with a GDP per Capita of $833.92"
   ]
  },
  {
   "cell_type": "markdown",
   "id": "f9687228-9e56-4789-a8d1-3355660333db",
   "metadata": {},
   "source": [
    "** Q13 -- CHART"
   ]
  },
  {
   "cell_type": "code",
   "execution_count": 59,
   "id": "13b196aa-3efd-48a3-8ca4-910b4c47bd16",
   "metadata": {
    "jupyter": {
     "source_hidden": true
    }
   },
   "outputs": [],
   "source": [
    "gdp_bur = gdp_df[gdp_df.Country == 'Burundi']"
   ]
  },
  {
   "cell_type": "code",
   "execution_count": 60,
   "id": "5c0036e8-ebf9-4db7-95ff-16bdbceb4e53",
   "metadata": {
    "jupyter": {
     "source_hidden": true
    }
   },
   "outputs": [
    {
     "name": "stderr",
     "output_type": "stream",
     "text": [
      "C:\\Users\\jeepf\\AppData\\Local\\Temp\\ipykernel_26604\\3570850294.py:3: UserWarning: set_ticklabels() should only be used with a fixed number of ticks, i.e. after set_ticks() or using a FixedLocator.\n",
      "  yr.set_xticklabels(yr.get_xticklabels(), rotation=45);\n"
     ]
    },
    {
     "data": {
      "image/png": "[encoded data removed]",
      "text/plain": [
       "<Figure size 1000x400 with 1 Axes>"
      ]
     },
     "metadata": {},
     "output_type": "display_data"
    }
   ],
   "source": [
    "plt.figure(figsize = (10,4))\n",
    "yr = sns.barplot(y = gdp_bur.GDP_Per_Capita, x = gdp_bur.Year)\n",
    "yr.set_xticklabels(yr.get_xticklabels(), rotation=45);"
   ]
  },
  {
   "cell_type": "markdown",
   "id": "90d4c179-9f49-4de4-83ae-6b23d16f1d32",
   "metadata": {},
   "source": [
    "<font color='yellow'>---------------------------------------------------------------------------------------------------------------------------------------------------------</font>"
   ]
  },
  {
   "cell_type": "markdown",
   "id": "da9038e8-d23d-48ef-9c32-3b78fb360709",
   "metadata": {},
   "source": [
    "-- Q14 --  Read in the internet use dataset into a DataFrame named `internet_df`. You will likely get errors when doing this. Check the arguments for the read_csv function to find ones that can help correct the errors (https://pandas.pydata.org/docs/reference/api/pandas.read_csv.html) Once you are able to read it in, take per a look at the top and bottom few rows to make sure that it has been read in correctly. Also, check the datatypes of the columns."
   ]
  },
  {
   "cell_type": "code",
   "execution_count": 63,
   "id": "4712d0bc-ca11-4801-b1a7-d0b7234a2a7e",
   "metadata": {
    "jupyter": {
     "source_hidden": true
    }
   },
   "outputs": [
    {
     "data": {
      "text/html": [
       "<div>\n",
       "<style scoped>\n",
       "    .dataframe tbody tr th:only-of-type {\n",
       "        vertical-align: middle;\n",
       "    }\n",
       "\n",
       "    .dataframe tbody tr th {\n",
       "        vertical-align: top;\n",
       "    }\n",
       "\n",
       "    .dataframe thead th {\n",
       "        text-align: right;\n",
       "    }\n",
       "</style>\n",
       "<table border=\"1\" class=\"dataframe\">\n",
       "  <thead>\n",
       "    <tr style=\"text-align: right;\">\n",
       "      <th></th>\n",
       "      <th>Country or Area</th>\n",
       "      <th>Year</th>\n",
       "      <th>Value</th>\n",
       "      <th>Value Footnotes</th>\n",
       "    </tr>\n",
       "  </thead>\n",
       "  <tbody>\n",
       "    <tr>\n",
       "      <th>0</th>\n",
       "      <td>Afghanistan</td>\n",
       "      <td>2019</td>\n",
       "      <td>17.600000</td>\n",
       "      <td>1</td>\n",
       "    </tr>\n",
       "    <tr>\n",
       "      <th>1</th>\n",
       "      <td>Afghanistan</td>\n",
       "      <td>2018</td>\n",
       "      <td>16.800000</td>\n",
       "      <td>2</td>\n",
       "    </tr>\n",
       "    <tr>\n",
       "      <th>2</th>\n",
       "      <td>Afghanistan</td>\n",
       "      <td>2017</td>\n",
       "      <td>13.500000</td>\n",
       "      <td>3</td>\n",
       "    </tr>\n",
       "    <tr>\n",
       "      <th>3</th>\n",
       "      <td>Afghanistan</td>\n",
       "      <td>2016</td>\n",
       "      <td>11.000000</td>\n",
       "      <td>4</td>\n",
       "    </tr>\n",
       "    <tr>\n",
       "      <th>4</th>\n",
       "      <td>Afghanistan</td>\n",
       "      <td>2015</td>\n",
       "      <td>8.260000</td>\n",
       "      <td>4</td>\n",
       "    </tr>\n",
       "    <tr>\n",
       "      <th>...</th>\n",
       "      <td>...</td>\n",
       "      <td>...</td>\n",
       "      <td>...</td>\n",
       "      <td>...</td>\n",
       "    </tr>\n",
       "    <tr>\n",
       "      <th>6078</th>\n",
       "      <td>Zimbabwe</td>\n",
       "      <td>1997</td>\n",
       "      <td>0.033080</td>\n",
       "      <td>NaN</td>\n",
       "    </tr>\n",
       "    <tr>\n",
       "      <th>6079</th>\n",
       "      <td>Zimbabwe</td>\n",
       "      <td>1996</td>\n",
       "      <td>0.016790</td>\n",
       "      <td>NaN</td>\n",
       "    </tr>\n",
       "    <tr>\n",
       "      <th>6080</th>\n",
       "      <td>Zimbabwe</td>\n",
       "      <td>1995</td>\n",
       "      <td>0.007684</td>\n",
       "      <td>NaN</td>\n",
       "    </tr>\n",
       "    <tr>\n",
       "      <th>6081</th>\n",
       "      <td>Zimbabwe</td>\n",
       "      <td>1994</td>\n",
       "      <td>0.001739</td>\n",
       "      <td>NaN</td>\n",
       "    </tr>\n",
       "    <tr>\n",
       "      <th>6082</th>\n",
       "      <td>Zimbabwe</td>\n",
       "      <td>1990</td>\n",
       "      <td>0.000000</td>\n",
       "      <td>NaN</td>\n",
       "    </tr>\n",
       "  </tbody>\n",
       "</table>\n",
       "<p>6083 rows × 4 columns</p>\n",
       "</div>"
      ],
      "text/plain": [
       "     Country or Area  Year      Value Value Footnotes\n",
       "0        Afghanistan  2019  17.600000               1\n",
       "1        Afghanistan  2018  16.800000               2\n",
       "2        Afghanistan  2017  13.500000               3\n",
       "3        Afghanistan  2016  11.000000               4\n",
       "4        Afghanistan  2015   8.260000               4\n",
       "...              ...   ...        ...             ...\n",
       "6078        Zimbabwe  1997   0.033080             NaN\n",
       "6079        Zimbabwe  1996   0.016790             NaN\n",
       "6080        Zimbabwe  1995   0.007684             NaN\n",
       "6081        Zimbabwe  1994   0.001739             NaN\n",
       "6082        Zimbabwe  1990   0.000000             NaN\n",
       "\n",
       "[6083 rows x 4 columns]"
      ]
     },
     "execution_count": 63,
     "metadata": {},
     "output_type": "execute_result"
    }
   ],
   "source": [
    "internet_df = pd.read_csv('../data/internet_use.csv', nrows = 6083)\n",
    "internet_df"
   ]
  },
  {
   "cell_type": "markdown",
   "id": "1e1d138c-6685-4e45-afe2-00ec751f78a9",
   "metadata": {},
   "source": [
    "<font color='yellow'>---------------------------------------------------------------------------------------------------------------------------------------------------------</font>"
   ]
  },
  {
   "cell_type": "markdown",
   "id": "d8eb0ec7-9406-4fbb-bffe-383d029617e3",
   "metadata": {},
   "source": [
    "-- Q15 -- Drop the `Value Footnotes` column and rename the remaining three to 'Country', 'Year', and 'Internet_Users_Pct'."
   ]
  },
  {
   "cell_type": "code",
   "execution_count": 66,
   "id": "88580ffa-f88e-414e-a9a9-b0084299b007",
   "metadata": {
    "jupyter": {
     "source_hidden": true
    }
   },
   "outputs": [],
   "source": [
    "internet_df = internet_df.drop(columns = 'Value Footnotes')"
   ]
  },
  {
   "cell_type": "code",
   "execution_count": 67,
   "id": "10fd2dbc-4055-4441-aeae-f1590297d468",
   "metadata": {
    "jupyter": {
     "source_hidden": true
    }
   },
   "outputs": [
    {
     "data": {
      "text/html": [
       "<div>\n",
       "<style scoped>\n",
       "    .dataframe tbody tr th:only-of-type {\n",
       "        vertical-align: middle;\n",
       "    }\n",
       "\n",
       "    .dataframe tbody tr th {\n",
       "        vertical-align: top;\n",
       "    }\n",
       "\n",
       "    .dataframe thead th {\n",
       "        text-align: right;\n",
       "    }\n",
       "</style>\n",
       "<table border=\"1\" class=\"dataframe\">\n",
       "  <thead>\n",
       "    <tr style=\"text-align: right;\">\n",
       "      <th></th>\n",
       "      <th>Country or Area</th>\n",
       "      <th>Year</th>\n",
       "      <th>Value</th>\n",
       "    </tr>\n",
       "  </thead>\n",
       "  <tbody>\n",
       "    <tr>\n",
       "      <th>0</th>\n",
       "      <td>Afghanistan</td>\n",
       "      <td>2019</td>\n",
       "      <td>17.600000</td>\n",
       "    </tr>\n",
       "    <tr>\n",
       "      <th>1</th>\n",
       "      <td>Afghanistan</td>\n",
       "      <td>2018</td>\n",
       "      <td>16.800000</td>\n",
       "    </tr>\n",
       "    <tr>\n",
       "      <th>2</th>\n",
       "      <td>Afghanistan</td>\n",
       "      <td>2017</td>\n",
       "      <td>13.500000</td>\n",
       "    </tr>\n",
       "    <tr>\n",
       "      <th>3</th>\n",
       "      <td>Afghanistan</td>\n",
       "      <td>2016</td>\n",
       "      <td>11.000000</td>\n",
       "    </tr>\n",
       "    <tr>\n",
       "      <th>4</th>\n",
       "      <td>Afghanistan</td>\n",
       "      <td>2015</td>\n",
       "      <td>8.260000</td>\n",
       "    </tr>\n",
       "    <tr>\n",
       "      <th>...</th>\n",
       "      <td>...</td>\n",
       "      <td>...</td>\n",
       "      <td>...</td>\n",
       "    </tr>\n",
       "    <tr>\n",
       "      <th>6078</th>\n",
       "      <td>Zimbabwe</td>\n",
       "      <td>1997</td>\n",
       "      <td>0.033080</td>\n",
       "    </tr>\n",
       "    <tr>\n",
       "      <th>6079</th>\n",
       "      <td>Zimbabwe</td>\n",
       "      <td>1996</td>\n",
       "      <td>0.016790</td>\n",
       "    </tr>\n",
       "    <tr>\n",
       "      <th>6080</th>\n",
       "      <td>Zimbabwe</td>\n",
       "      <td>1995</td>\n",
       "      <td>0.007684</td>\n",
       "    </tr>\n",
       "    <tr>\n",
       "      <th>6081</th>\n",
       "      <td>Zimbabwe</td>\n",
       "      <td>1994</td>\n",
       "      <td>0.001739</td>\n",
       "    </tr>\n",
       "    <tr>\n",
       "      <th>6082</th>\n",
       "      <td>Zimbabwe</td>\n",
       "      <td>1990</td>\n",
       "      <td>0.000000</td>\n",
       "    </tr>\n",
       "  </tbody>\n",
       "</table>\n",
       "<p>6083 rows × 3 columns</p>\n",
       "</div>"
      ],
      "text/plain": [
       "     Country or Area  Year      Value\n",
       "0        Afghanistan  2019  17.600000\n",
       "1        Afghanistan  2018  16.800000\n",
       "2        Afghanistan  2017  13.500000\n",
       "3        Afghanistan  2016  11.000000\n",
       "4        Afghanistan  2015   8.260000\n",
       "...              ...   ...        ...\n",
       "6078        Zimbabwe  1997   0.033080\n",
       "6079        Zimbabwe  1996   0.016790\n",
       "6080        Zimbabwe  1995   0.007684\n",
       "6081        Zimbabwe  1994   0.001739\n",
       "6082        Zimbabwe  1990   0.000000\n",
       "\n",
       "[6083 rows x 3 columns]"
      ]
     },
     "execution_count": 67,
     "metadata": {},
     "output_type": "execute_result"
    }
   ],
   "source": [
    "internet_df"
   ]
  },
  {
   "cell_type": "code",
   "execution_count": 68,
   "id": "4ef11946-59ad-40f9-aebf-c985ef541432",
   "metadata": {
    "jupyter": {
     "source_hidden": true
    }
   },
   "outputs": [],
   "source": [
    "internet_df = internet_df.rename(columns = {'Country or Area' : 'country', 'Year' : 'year', 'Value' : 'internet_users_pct'})"
   ]
  },
  {
   "cell_type": "markdown",
   "id": "8e2e3989-7579-4608-8ace-fd4fe367d931",
   "metadata": {},
   "source": [
    "<font color='yellow'>---------------------------------------------------------------------------------------------------------------------------------------------------------</font>"
   ]
  },
  {
   "cell_type": "markdown",
   "id": "ab034656-7c35-4f7d-9816-de44754c3e7f",
   "metadata": {},
   "source": [
    "-- Q16 -- Look at the number of observations in this dataset per year. What do you notice?"
   ]
  },
  {
   "cell_type": "code",
   "execution_count": 71,
   "id": "5512a341-4f45-4aab-8790-0412bf6e5d38",
   "metadata": {
    "jupyter": {
     "source_hidden": true
    }
   },
   "outputs": [
    {
     "data": {
      "text/plain": [
       "<bound method DataFrame.info of           country  year  internet_users_pct\n",
       "0     Afghanistan  2019           17.600000\n",
       "1     Afghanistan  2018           16.800000\n",
       "2     Afghanistan  2017           13.500000\n",
       "3     Afghanistan  2016           11.000000\n",
       "4     Afghanistan  2015            8.260000\n",
       "...           ...   ...                 ...\n",
       "6078     Zimbabwe  1997            0.033080\n",
       "6079     Zimbabwe  1996            0.016790\n",
       "6080     Zimbabwe  1995            0.007684\n",
       "6081     Zimbabwe  1994            0.001739\n",
       "6082     Zimbabwe  1990            0.000000\n",
       "\n",
       "[6083 rows x 3 columns]>"
      ]
     },
     "execution_count": 71,
     "metadata": {},
     "output_type": "execute_result"
    }
   ],
   "source": [
    "internet_df.info"
   ]
  },
  {
   "cell_type": "code",
   "execution_count": 72,
   "id": "6318e6c5-bf0b-4a8f-a27c-d57636526fde",
   "metadata": {
    "jupyter": {
     "source_hidden": true
    }
   },
   "outputs": [
    {
     "data": {
      "text/plain": [
       "year\n",
       "1990    226\n",
       "1991     39\n",
       "1992     50\n",
       "1993     66\n",
       "1994     92\n",
       "1995    141\n",
       "1996    177\n",
       "1997    188\n",
       "1998    195\n",
       "1999    207\n",
       "2000    210\n",
       "2001    212\n",
       "2002    214\n",
       "2003    208\n",
       "2004    210\n",
       "2005    212\n",
       "2006    212\n",
       "2007    217\n",
       "2008    214\n",
       "2009    214\n",
       "2010    209\n",
       "2011    214\n",
       "2012    209\n",
       "2013    203\n",
       "2014    204\n",
       "2015    203\n",
       "2016    206\n",
       "2017    205\n",
       "2018    174\n",
       "2019    185\n",
       "2020    186\n",
       "2021    186\n",
       "2022    184\n",
       "2023     11\n",
       "Name: count, dtype: int64"
      ]
     },
     "execution_count": 72,
     "metadata": {},
     "output_type": "execute_result"
    }
   ],
   "source": [
    "internet_df.year.value_counts().sort_index()"
   ]
  },
  {
   "cell_type": "markdown",
   "id": "f95c82e7-74fa-4136-a5c3-900d03c4b50f",
   "metadata": {},
   "source": [
    "<font color='yellow'>---------------------------------------------------------------------------------------------------------------------------------------------------------</font>"
   ]
  },
  {
   "cell_type": "markdown",
   "id": "a6737099-ed99-4a9b-b19a-cd4a774ce2df",
   "metadata": {},
   "source": [
    "-- Q17 -- What is the first year to have a non-zero internet users percentage value?"
   ]
  },
  {
   "cell_type": "code",
   "execution_count": 75,
   "id": "3ede4429-a2e4-40c3-a70e-2a11defe327f",
   "metadata": {
    "jupyter": {
     "source_hidden": true
    }
   },
   "outputs": [
    {
     "data": {
      "text/plain": [
       "year\n",
       "1990        5.032933\n",
       "1991       10.931879\n",
       "1992       19.951843\n",
       "1993       30.144702\n",
       "1994       60.571017\n",
       "1995      133.724628\n",
       "1996      258.615227\n",
       "1997      477.813944\n",
       "1998      778.272406\n",
       "1999     1296.511722\n",
       "2000     1959.800955\n",
       "2001     2420.561957\n",
       "2002     3048.074208\n",
       "2003     3487.838864\n",
       "2004     4055.764307\n",
       "2005     4578.327138\n",
       "2006     5130.809568\n",
       "2007     5665.714672\n",
       "2008     6189.049190\n",
       "2009     6765.180090\n",
       "2010     7259.655600\n",
       "2011     8079.495520\n",
       "2012     8362.030980\n",
       "2013     8676.497320\n",
       "2014     9303.404670\n",
       "2015     9832.209260\n",
       "2016    10666.684550\n",
       "2017    11255.077100\n",
       "2018    10124.626800\n",
       "2019    11391.434770\n",
       "2020    12231.569060\n",
       "2021    12794.029210\n",
       "2022    13092.763700\n",
       "2023      952.773300\n",
       "Name: internet_users_pct, dtype: float64"
      ]
     },
     "execution_count": 75,
     "metadata": {},
     "output_type": "execute_result"
    }
   ],
   "source": [
    "internet_df.groupby(['year'])['internet_users_pct'].sum()"
   ]
  },
  {
   "cell_type": "code",
   "execution_count": 76,
   "id": "ceef3ea9-aacf-4b1b-8fbd-9401320267f1",
   "metadata": {
    "jupyter": {
     "source_hidden": true
    }
   },
   "outputs": [],
   "source": [
    "O_internet = internet_df[internet_df.internet_users_pct <= 0]"
   ]
  },
  {
   "cell_type": "code",
   "execution_count": 77,
   "id": "6503dccf-38fb-4c16-9636-e6f1a05f29d7",
   "metadata": {
    "jupyter": {
     "source_hidden": true
    }
   },
   "outputs": [
    {
     "data": {
      "text/plain": [
       "year\n",
       "1990    207\n",
       "1991      8\n",
       "1992      7\n",
       "1993     11\n",
       "1994     12\n",
       "1995     12\n",
       "1996      5\n",
       "1997      2\n",
       "1998      1\n",
       "1999      1\n",
       "2000      1\n",
       "2001      1\n",
       "2002      2\n",
       "2003      1\n",
       "2004      1\n",
       "2005      1\n",
       "2006      1\n",
       "2007      1\n",
       "2008      1\n",
       "2009      1\n",
       "2010      1\n",
       "2011      1\n",
       "2012      1\n",
       "Name: count, dtype: int64"
      ]
     },
     "execution_count": 77,
     "metadata": {},
     "output_type": "execute_result"
    }
   ],
   "source": [
    "O_internet.year.value_counts().sort_index()"
   ]
  },
  {
   "cell_type": "markdown",
   "id": "e62e077e-3525-4e06-a933-9f475bac8ca4",
   "metadata": {},
   "source": [
    "** Q17 -- ANSWER: 2013 Was the first year that no country had a zero internet pct"
   ]
  },
  {
   "cell_type": "markdown",
   "id": "51d08721-d211-41de-9050-86cfdcebf091",
   "metadata": {},
   "source": [
    "<font color='yellow'>---------------------------------------------------------------------------------------------------------------------------------------------------------</font>"
   ]
  },
  {
   "cell_type": "markdown",
   "id": "b2a67ce3-f5f6-4dd4-994d-ab73ab9a7503",
   "metadata": {},
   "source": [
    "-- Q18 -- How does the distribution of internet users percent differ for 2000 and 2014?"
   ]
  },
  {
   "cell_type": "code",
   "execution_count": 81,
   "id": "8b3b2317-03ff-427d-9f95-0ce25172f4b2",
   "metadata": {
    "jupyter": {
     "source_hidden": true
    }
   },
   "outputs": [
    {
     "data": {
      "text/html": [
       "<div>\n",
       "<style scoped>\n",
       "    .dataframe tbody tr th:only-of-type {\n",
       "        vertical-align: middle;\n",
       "    }\n",
       "\n",
       "    .dataframe tbody tr th {\n",
       "        vertical-align: top;\n",
       "    }\n",
       "\n",
       "    .dataframe thead th {\n",
       "        text-align: right;\n",
       "    }\n",
       "</style>\n",
       "<table border=\"1\" class=\"dataframe\">\n",
       "  <thead>\n",
       "    <tr style=\"text-align: right;\">\n",
       "      <th></th>\n",
       "      <th>country</th>\n",
       "      <th>year</th>\n",
       "      <th>internet_users_pct</th>\n",
       "    </tr>\n",
       "  </thead>\n",
       "  <tbody>\n",
       "    <tr>\n",
       "      <th>5</th>\n",
       "      <td>Afghanistan</td>\n",
       "      <td>2014</td>\n",
       "      <td>7.000000</td>\n",
       "    </tr>\n",
       "    <tr>\n",
       "      <th>28</th>\n",
       "      <td>Albania</td>\n",
       "      <td>2014</td>\n",
       "      <td>54.300000</td>\n",
       "    </tr>\n",
       "    <tr>\n",
       "      <th>42</th>\n",
       "      <td>Albania</td>\n",
       "      <td>2000</td>\n",
       "      <td>0.114097</td>\n",
       "    </tr>\n",
       "    <tr>\n",
       "      <th>57</th>\n",
       "      <td>Algeria</td>\n",
       "      <td>2014</td>\n",
       "      <td>29.500000</td>\n",
       "    </tr>\n",
       "    <tr>\n",
       "      <th>71</th>\n",
       "      <td>Algeria</td>\n",
       "      <td>2000</td>\n",
       "      <td>0.491706</td>\n",
       "    </tr>\n",
       "    <tr>\n",
       "      <th>...</th>\n",
       "      <td>...</td>\n",
       "      <td>...</td>\n",
       "      <td>...</td>\n",
       "    </tr>\n",
       "    <tr>\n",
       "      <th>6017</th>\n",
       "      <td>Yemen</td>\n",
       "      <td>2000</td>\n",
       "      <td>0.082500</td>\n",
       "    </tr>\n",
       "    <tr>\n",
       "      <th>6031</th>\n",
       "      <td>Zambia</td>\n",
       "      <td>2014</td>\n",
       "      <td>6.500000</td>\n",
       "    </tr>\n",
       "    <tr>\n",
       "      <th>6045</th>\n",
       "      <td>Zambia</td>\n",
       "      <td>2000</td>\n",
       "      <td>0.191072</td>\n",
       "    </tr>\n",
       "    <tr>\n",
       "      <th>6061</th>\n",
       "      <td>Zimbabwe</td>\n",
       "      <td>2014</td>\n",
       "      <td>16.364700</td>\n",
       "    </tr>\n",
       "    <tr>\n",
       "      <th>6075</th>\n",
       "      <td>Zimbabwe</td>\n",
       "      <td>2000</td>\n",
       "      <td>0.401434</td>\n",
       "    </tr>\n",
       "  </tbody>\n",
       "</table>\n",
       "<p>414 rows × 3 columns</p>\n",
       "</div>"
      ],
      "text/plain": [
       "          country  year  internet_users_pct\n",
       "5     Afghanistan  2014            7.000000\n",
       "28        Albania  2014           54.300000\n",
       "42        Albania  2000            0.114097\n",
       "57        Algeria  2014           29.500000\n",
       "71        Algeria  2000            0.491706\n",
       "...           ...   ...                 ...\n",
       "6017        Yemen  2000            0.082500\n",
       "6031       Zambia  2014            6.500000\n",
       "6045       Zambia  2000            0.191072\n",
       "6061     Zimbabwe  2014           16.364700\n",
       "6075     Zimbabwe  2000            0.401434\n",
       "\n",
       "[414 rows x 3 columns]"
      ]
     },
     "execution_count": 81,
     "metadata": {},
     "output_type": "execute_result"
    }
   ],
   "source": [
    "int_00_14_list = [2000,2014]\n",
    "int_00_14 = internet_df[internet_df.year.isin(int_00_14_list)]\n",
    "int_00_14"
   ]
  },
  {
   "cell_type": "code",
   "execution_count": 82,
   "id": "4a3b067f-b410-48d4-a30e-01bf2d6bb692",
   "metadata": {
    "jupyter": {
     "source_hidden": true
    }
   },
   "outputs": [
    {
     "data": {
      "text/html": [
       "<div>\n",
       "<style scoped>\n",
       "    .dataframe tbody tr th:only-of-type {\n",
       "        vertical-align: middle;\n",
       "    }\n",
       "\n",
       "    .dataframe tbody tr th {\n",
       "        vertical-align: top;\n",
       "    }\n",
       "\n",
       "    .dataframe thead th {\n",
       "        text-align: right;\n",
       "    }\n",
       "</style>\n",
       "<table border=\"1\" class=\"dataframe\">\n",
       "  <thead>\n",
       "    <tr style=\"text-align: right;\">\n",
       "      <th></th>\n",
       "      <th>count</th>\n",
       "      <th>mean</th>\n",
       "      <th>std</th>\n",
       "      <th>min</th>\n",
       "      <th>25%</th>\n",
       "      <th>50%</th>\n",
       "      <th>75%</th>\n",
       "      <th>max</th>\n",
       "    </tr>\n",
       "    <tr>\n",
       "      <th>year</th>\n",
       "      <th></th>\n",
       "      <th></th>\n",
       "      <th></th>\n",
       "      <th></th>\n",
       "      <th></th>\n",
       "      <th></th>\n",
       "      <th></th>\n",
       "      <th></th>\n",
       "    </tr>\n",
       "  </thead>\n",
       "  <tbody>\n",
       "    <tr>\n",
       "      <th>2000</th>\n",
       "      <td>210.0</td>\n",
       "      <td>9.332385</td>\n",
       "      <td>13.644205</td>\n",
       "      <td>0.00</td>\n",
       "      <td>0.482059</td>\n",
       "      <td>2.88668</td>\n",
       "      <td>10.539025</td>\n",
       "      <td>58.6207</td>\n",
       "    </tr>\n",
       "    <tr>\n",
       "      <th>2014</th>\n",
       "      <td>204.0</td>\n",
       "      <td>45.604925</td>\n",
       "      <td>29.295667</td>\n",
       "      <td>0.99</td>\n",
       "      <td>17.403300</td>\n",
       "      <td>46.81800</td>\n",
       "      <td>70.262500</td>\n",
       "      <td>98.1580</td>\n",
       "    </tr>\n",
       "  </tbody>\n",
       "</table>\n",
       "</div>"
      ],
      "text/plain": [
       "      count       mean        std   min        25%       50%        75%  \\\n",
       "year                                                                      \n",
       "2000  210.0   9.332385  13.644205  0.00   0.482059   2.88668  10.539025   \n",
       "2014  204.0  45.604925  29.295667  0.99  17.403300  46.81800  70.262500   \n",
       "\n",
       "          max  \n",
       "year           \n",
       "2000  58.6207  \n",
       "2014  98.1580  "
      ]
     },
     "execution_count": 82,
     "metadata": {},
     "output_type": "execute_result"
    }
   ],
   "source": [
    "int_00_14.groupby(['year'])['internet_users_pct'].describe()"
   ]
  },
  {
   "cell_type": "markdown",
   "id": "14b8ee4e-03d1-4850-a561-26083c9c6c45",
   "metadata": {},
   "source": [
    "<font color='yellow'>---------------------------------------------------------------------------------------------------------------------------------------------------------</font>"
   ]
  },
  {
   "cell_type": "markdown",
   "id": "1d7cf381-98bb-433c-bbc9-d90c8cbe7b3f",
   "metadata": {},
   "source": [
    "-- Q19 -- For how many countries was the percentage of internet users below 5% in 2014?"
   ]
  },
  {
   "cell_type": "code",
   "execution_count": 85,
   "id": "e92d5c04-f49e-4b30-840b-4bc1b2208655",
   "metadata": {
    "jupyter": {
     "source_hidden": true
    }
   },
   "outputs": [],
   "source": [
    "internet2014 = internet_df[internet_df.year == 2014]"
   ]
  },
  {
   "cell_type": "code",
   "execution_count": 86,
   "id": "f7a15da2-7581-4ac9-8048-bfcadd200b62",
   "metadata": {
    "jupyter": {
     "source_hidden": true
    }
   },
   "outputs": [
    {
     "data": {
      "text/plain": [
       "10"
      ]
     },
     "execution_count": 86,
     "metadata": {},
     "output_type": "execute_result"
    }
   ],
   "source": [
    "below5 = internet2014[internet2014.internet_users_pct <= 5].sort_values('internet_users_pct', ascending = False)\n",
    "below5.country.count()"
   ]
  },
  {
   "cell_type": "markdown",
   "id": "5be0619c-3ba9-4e3a-b9e5-2fd63f8b2638",
   "metadata": {},
   "source": [
    "** Q19 -- 10 Countries internet pct usage were below 5% in 2014"
   ]
  },
  {
   "cell_type": "markdown",
   "id": "702d4912-1a1b-4e9b-a616-7d560563d35f",
   "metadata": {},
   "source": [
    "<font color='yellow'>---------------------------------------------------------------------------------------------------------------------------------------------------------</font>"
   ]
  },
  {
   "cell_type": "markdown",
   "id": "37631330-32fc-41ac-94c1-4496a47e438c",
   "metadata": {},
   "source": [
    "-- Q20 -- Merge the two DataFrames to one. Do this in a way that keeps **all rows** from each of the two DataFrames. Call the new DataFrame `gdp_and_internet_use`. Look at the first and last few rows to confirm that it merged correctly."
   ]
  },
  {
   "cell_type": "code",
   "execution_count": 90,
   "id": "5b574d11-d0d8-4cd3-94b0-345ef7ab3610",
   "metadata": {
    "jupyter": {
     "source_hidden": true
    }
   },
   "outputs": [],
   "source": [
    "gdp_and_internet_use = pd.merge(gdp_df, internet_df,\n",
    "                                left_on = ['Country','Year'], right_on = ['country','year'],\n",
    "                                how = 'left')"
   ]
  },
  {
   "cell_type": "code",
   "execution_count": 91,
   "id": "b4542bae-982d-4d0b-a6d1-96f59a0c34bb",
   "metadata": {
    "jupyter": {
     "source_hidden": true
    }
   },
   "outputs": [],
   "source": [
    "gdp_and_internet_use = gdp_and_internet_use.drop(columns = ['country','year'])"
   ]
  },
  {
   "cell_type": "markdown",
   "id": "622455ee-72ed-4dd3-acc2-4837413f3133",
   "metadata": {},
   "source": [
    "<font color='yellow'>---------------------------------------------------------------------------------------------------------------------------------------------------------</font>"
   ]
  },
  {
   "cell_type": "markdown",
   "id": "0af1fece-08f3-4724-825e-f3ebc45d6e7b",
   "metadata": {},
   "source": [
    "--  Q21 -- Find the three countries with the highest internet users percentage in 2014. Use a seaborn FacetGrid (https://seaborn.pydata.org/generated/seaborn.FacetGrid.html) to compare how the GDP per capita has changed over time for these three countries. What do you notice?"
   ]
  },
  {
   "cell_type": "code",
   "execution_count": 94,
   "id": "2e09e3da-2b8a-41b4-ad2c-c8c7552b65d1",
   "metadata": {
    "jupyter": {
     "source_hidden": true
    }
   },
   "outputs": [],
   "source": [
    "gdpint2014 = gdp_and_internet_use[gdp_and_internet_use.Year == 2014]"
   ]
  },
  {
   "cell_type": "code",
   "execution_count": 95,
   "id": "b4a0af72-72af-4ae4-a2c5-771dfeb304c1",
   "metadata": {
    "jupyter": {
     "source_hidden": true
    }
   },
   "outputs": [
    {
     "data": {
      "text/html": [
       "<div>\n",
       "<style scoped>\n",
       "    .dataframe tbody tr th:only-of-type {\n",
       "        vertical-align: middle;\n",
       "    }\n",
       "\n",
       "    .dataframe tbody tr th {\n",
       "        vertical-align: top;\n",
       "    }\n",
       "\n",
       "    .dataframe thead th {\n",
       "        text-align: right;\n",
       "    }\n",
       "</style>\n",
       "<table border=\"1\" class=\"dataframe\">\n",
       "  <thead>\n",
       "    <tr style=\"text-align: right;\">\n",
       "      <th></th>\n",
       "      <th>Country</th>\n",
       "      <th>Year</th>\n",
       "      <th>GDP_Per_Capita</th>\n",
       "      <th>internet_users_pct</th>\n",
       "    </tr>\n",
       "  </thead>\n",
       "  <tbody>\n",
       "    <tr>\n",
       "      <th>3193</th>\n",
       "      <td>Iceland</td>\n",
       "      <td>2014</td>\n",
       "      <td>57981.199448</td>\n",
       "      <td>98.1580</td>\n",
       "    </tr>\n",
       "    <tr>\n",
       "      <th>747</th>\n",
       "      <td>Bermuda</td>\n",
       "      <td>2014</td>\n",
       "      <td>92298.387811</td>\n",
       "      <td>96.8000</td>\n",
       "    </tr>\n",
       "    <tr>\n",
       "      <th>5547</th>\n",
       "      <td>Norway</td>\n",
       "      <td>2014</td>\n",
       "      <td>84753.668395</td>\n",
       "      <td>96.3005</td>\n",
       "    </tr>\n",
       "  </tbody>\n",
       "</table>\n",
       "</div>"
      ],
      "text/plain": [
       "      Country  Year  GDP_Per_Capita  internet_users_pct\n",
       "3193  Iceland  2014    57981.199448             98.1580\n",
       "747   Bermuda  2014    92298.387811             96.8000\n",
       "5547   Norway  2014    84753.668395             96.3005"
      ]
     },
     "execution_count": 95,
     "metadata": {},
     "output_type": "execute_result"
    }
   ],
   "source": [
    "gdpint2014_sort = gdpint2014.sort_values('internet_users_pct', ascending = False)\n",
    "gdpint2014_sort.head(3)"
   ]
  },
  {
   "cell_type": "code",
   "execution_count": 96,
   "id": "9c77648b-f1db-4dd6-a1de-a577917cc28b",
   "metadata": {
    "jupyter": {
     "source_hidden": true
    }
   },
   "outputs": [],
   "source": [
    "topcountries = ['Iceland', 'Bermuda', 'Norway']\n",
    "top3 = gdp_and_internet_use[gdp_and_internet_use.Country.isin(topcountries)]"
   ]
  },
  {
   "cell_type": "code",
   "execution_count": 97,
   "id": "7b962e5c-a095-479b-a9da-c73562138f76",
   "metadata": {
    "jupyter": {
     "source_hidden": true
    }
   },
   "outputs": [
    {
     "data": {
      "image/png": "[encoded data removed]",
      "text/plain": [
       "<Figure size 600x900 with 3 Axes>"
      ]
     },
     "metadata": {},
     "output_type": "display_data"
    }
   ],
   "source": [
    "chart = sns.FacetGrid(top3, row = 'Country', height = 3, aspect = 2)\n",
    "chart.map_dataframe(sns.barplot, y = 'GDP_Per_Capita', x = 'Year')\n",
    "chart.set_xticklabels(yr.get_xticklabels(), rotation=90);"
   ]
  },
  {
   "cell_type": "markdown",
   "id": "cc3fb0d2-09ce-4d15-84a9-4bba88ae646c",
   "metadata": {},
   "source": [
    "<font color='yellow'>---------------------------------------------------------------------------------------------------------------------------------------------------------</font>"
   ]
  },
  {
   "cell_type": "markdown",
   "id": "a17e256f-0784-4c2b-a09d-5b10883a7d72",
   "metadata": {},
   "source": [
    "-- Q22 -- Subset `gdp_and_internet_use` to just the year 2014. Save this as a new dataframe named `gdp_and_internet_use_2014`."
   ]
  },
  {
   "cell_type": "code",
   "execution_count": 100,
   "id": "91e25adc-1016-4b6e-ab21-2a64850e5e4b",
   "metadata": {
    "jupyter": {
     "source_hidden": true
    }
   },
   "outputs": [],
   "source": [
    "gdp_and_internet_use_2014 = gdpint2014"
   ]
  },
  {
   "cell_type": "markdown",
   "id": "53d70a01-ade1-4552-a363-70dfcfb4ec3b",
   "metadata": {},
   "source": [
    "<font color='yellow'>---------------------------------------------------------------------------------------------------------------------------------------------------------</font>"
   ]
  },
  {
   "cell_type": "markdown",
   "id": "9de93248-072e-458d-b720-3dd1dac3cfbc",
   "metadata": {},
   "source": [
    "-- Q23 --  Create a plot which compares Internet Users Percentage and GDP per Capita for the year 2014. What do you notice from this plot? If you see any unusual points, investigate them."
   ]
  },
  {
   "cell_type": "code",
   "execution_count": 103,
   "id": "44821152-d76e-497b-ba70-0e3cb3ce5741",
   "metadata": {
    "jupyter": {
     "source_hidden": true
    }
   },
   "outputs": [
    {
     "data": {
      "text/plain": [
       "<Axes: xlabel='internet_users_pct', ylabel='GDP_Per_Capita'>"
      ]
     },
     "execution_count": 103,
     "metadata": {},
     "output_type": "execute_result"
    },
    {
     "data": {
      "image/png": "[encoded data removed]",
      "text/plain": [
       "<Figure size 640x480 with 1 Axes>"
      ]
     },
     "metadata": {},
     "output_type": "display_data"
    }
   ],
   "source": [
    "sns.regplot(x = gdp_and_internet_use_2014.internet_users_pct, y = gdp_and_internet_use_2014.GDP_Per_Capita)"
   ]
  },
  {
   "cell_type": "code",
   "execution_count": null,
   "id": "c8474296-68a9-4f44-8e62-f4f5062f36de",
   "metadata": {
    "jupyter": {
     "source_hidden": true
    }
   },
   "outputs": [],
   "source": []
  }
 ],
 "metadata": {
  "kernelspec": {
   "display_name": "Python [conda env:base] *",
   "language": "python",
   "name": "conda-base-py"
  },
  "language_info": {
   "codemirror_mode": {
    "name": "ipython",
    "version": 3
   },
   "file_extension": ".py",
   "mimetype": "text/x-python",
   "name": "python",
   "nbconvert_exporter": "python",
   "pygments_lexer": "ipython3",
   "version": "3.12.7"
  }
 },
 "nbformat": 4,
 "nbformat_minor": 5
}
